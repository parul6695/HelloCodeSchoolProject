{
  "nbformat": 4,
  "nbformat_minor": 0,
  "metadata": {
    "colab": {
      "name": "sklearn.ipynb",
      "provenance": [],
      "include_colab_link": true
    },
    "kernelspec": {
      "name": "python3",
      "display_name": "Python 3"
    }
  },
  "cells": [
    {
      "cell_type": "markdown",
      "metadata": {
        "id": "view-in-github",
        "colab_type": "text"
      },
      "source": [
        "<a href=\"https://colab.research.google.com/github/parul6695/HelloCodeSchoolProject/blob/master/sklearn.ipynb\" target=\"_parent\"><img src=\"https://colab.research.google.com/assets/colab-badge.svg\" alt=\"Open In Colab\"/></a>"
      ]
    },
    {
      "cell_type": "markdown",
      "metadata": {
        "id": "HGqQj8erEPOm",
        "colab_type": "text"
      },
      "source": [
        "Scikit-learn Python library implements a range of machine learning, preprocessing, cross-validation and visualization algorithms using a unified interface.\n",
        "Below is the basic example to explore Scikit with one of its Iris Dataset.\n",
        "\n",
        "Data sets consists of 3 different types of irises’ (Setosa, Versicolour, and Virginica) petal and sepal length, stored in a 150x4 numpy.ndarray\n",
        "\n",
        "The rows being the samples and the columns being: Sepal Length, Sepal Width, Petal Length and Petal Width.\n"
      ]
    },
    {
      "cell_type": "code",
      "metadata": {
        "id": "N3U7GBPLAE8G",
        "colab_type": "code",
        "outputId": "0065dc6f-c966-4b4a-f33d-d51629b0097b",
        "colab": {
          "base_uri": "https://localhost:8080/",
          "height": 34
        }
      },
      "source": [
        "from sklearn import neighbors, datasets, preprocessing \n",
        "from sklearn.model_selection import train_test_split \n",
        "from sklearn.metrics import accuracy_score \n",
        "iris = datasets.load_iris() \n",
        "\n",
        "X, y = iris.data[:, :2], iris.target \n",
        "X_train, X_test, y_train, y_test = train_test_split(X, y, random_state=33) \n",
        "scaler = preprocessing.StandardScaler().fit(X_train) \n",
        "X_train = scaler.transform(X_train) \n",
        "X_test = scaler.transform(X_test) \n",
        "knn = neighbors.KNeighborsClassifier(n_neighbors=5) \n",
        "knn.fit(X_train, y_train)\n",
        "y_pred = knn.predict(X_test) \n",
        "accuracy_score(y_test, y_pred)\n",
        "print(\"Accuracy score for KNeighborsClassifier:\",accuracy_score(y_test, y_pred))\n"
      ],
      "execution_count": 0,
      "outputs": [
        {
          "output_type": "stream",
          "text": [
            "Accuracy score for KNeighborsClassifier: 0.631578947368421\n"
          ],
          "name": "stdout"
        }
      ]
    },
    {
      "cell_type": "markdown",
      "metadata": {
        "id": "N9ZJT21KF2k2",
        "colab_type": "text"
      },
      "source": [
        "Scikit focuses on modeling data not on loading and manipulating data.\n",
        "\n",
        "Some popular groups of models provided by scikit-learn include:\n",
        "\n",
        "•\tClustering: for grouping unlabeled data such as KMeans.\n",
        "\n",
        "•\tCross Validation: for estimating the performance of supervised models on unseen data.\n",
        "\n",
        "•\tDatasets: for test datasets and for generating datasets with specific properties for investigating model behavior.\n",
        "\n",
        "•\tDimensionality Reduction: for reducing the number of attributes in data for summarization, visualization and feature selection such as Principal component analysis.\n",
        "\n",
        "•\tEnsemble methods: for combining the predictions of multiple supervised models.\n",
        "\n",
        "•\tFeature extraction: for defining attributes in image and text data.\n",
        "\n",
        "•\tFeature selection: for identifying meaningful attributes from which to create supervised models.\n",
        "\n",
        "•\tParameter Tuning: for getting the most out of supervised models.\n",
        "\n",
        "•\tManifold Learning: For summarizing and depicting complex multi-dimensional data.\n",
        "\n",
        "•\tSupervised Models: a vast array not limited to generalized linear models, discriminate analysis, naive bayes, lazy methods, neural networks, support vector machines and decision trees.\n",
        "\n",
        "\n",
        "\n"
      ]
    },
    {
      "cell_type": "code",
      "metadata": {
        "id": "II7AaR1FbS3v",
        "colab_type": "code",
        "colab": {}
      },
      "source": [
        ""
      ],
      "execution_count": 0,
      "outputs": []
    },
    {
      "cell_type": "markdown",
      "metadata": {
        "id": "0c1Sdbw8AKhR",
        "colab_type": "text"
      },
      "source": [
        ""
      ]
    }
  ]
}